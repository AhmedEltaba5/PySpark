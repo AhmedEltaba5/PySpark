{
 "cells": [
  {
   "cell_type": "markdown",
   "id": "be901cbb",
   "metadata": {},
   "source": [
    "## Quick Example"
   ]
  },
  {
   "cell_type": "code",
   "execution_count": 2,
   "id": "ae2a128e",
   "metadata": {},
   "outputs": [],
   "source": [
    "import findspark\n",
    "findspark.init()\n",
    "import pyspark"
   ]
  },
  {
   "cell_type": "code",
   "execution_count": null,
   "id": "aac85d35",
   "metadata": {},
   "outputs": [],
   "source": [
    "\n",
    "\"\"\"\n",
    "  Reads a stream from a stream (network)\n",
    "\n",
    "  @author rambabu.posa\n",
    "\"\"\"\n",
    "from pyspark.sql import SparkSession\n",
    "import logging\n",
    "\n",
    "logging.debug(\"-> start\")\n",
    "\n",
    "spark = SparkSession.builder \\\n",
    "    .appName(\"Read lines over a network stream\") \\\n",
    "    .master(\"local[*]\").getOrCreate()\n",
    "\n",
    "df = spark.readStream.format(\"socket\") \\\n",
    "    .option(\"host\", \"localhost\") \\\n",
    "    .option(\"port\", 12345) \\\n",
    "    .load()\n",
    "\n",
    "query = df.writeStream.outputMode(\"append\") \\\n",
    "    .format(\"console\") \\\n",
    "    .start()\n",
    "\n",
    "query.awaitTermination()\n",
    "\n",
    "# Executed only after a nice kill\n",
    "logging.debug(\"Query status: {}\".format(query.status))\n",
    "logging.debug(\"<- end\")"
   ]
  },
  {
   "cell_type": "code",
   "execution_count": null,
   "id": "f39ed409",
   "metadata": {},
   "outputs": [],
   "source": []
  }
 ],
 "metadata": {
  "kernelspec": {
   "display_name": "Python 3",
   "language": "python",
   "name": "python3"
  },
  "language_info": {
   "codemirror_mode": {
    "name": "ipython",
    "version": 3
   },
   "file_extension": ".py",
   "mimetype": "text/x-python",
   "name": "python",
   "nbconvert_exporter": "python",
   "pygments_lexer": "ipython3",
   "version": "3.8.8"
  }
 },
 "nbformat": 4,
 "nbformat_minor": 5
}
