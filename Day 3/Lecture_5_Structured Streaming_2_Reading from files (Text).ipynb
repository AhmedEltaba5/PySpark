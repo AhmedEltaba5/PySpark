{
 "cells": [
  {
   "cell_type": "markdown",
   "id": "5b8074fc",
   "metadata": {},
   "source": [
    "## Streaming Data Sources and Sinks\n",
    "- You can create DataFrames from streaming sources using\n",
    "<b>SparkSession.readStream()</b> and write the output from a result DataFrame using\n",
    "<b>DataFrame.writeStream()</b>.\n",
    "- In each case, you can specify the source type using the\n",
    "method <b>format()</b>."
   ]
  },
  {
   "cell_type": "markdown",
   "id": "e4405489",
   "metadata": {},
   "source": [
    "## Files\n",
    "- Structured Streaming supports reading and writing data streams to and from files in\n",
    "the same formats as the ones supported in batch processing: <b>plain text, CSV, JSON,\n",
    "Parquet, ORC, etc.</b>\n",
    "\n",
    "### Reading from files\n",
    "- Structured Streaming can treat files written into a directory as a data stream."
   ]
  },
  {
   "cell_type": "code",
   "execution_count": 1,
   "id": "ae3afe54",
   "metadata": {},
   "outputs": [],
   "source": [
    "import findspark\n",
    "findspark.init()\n",
    "import pyspark"
   ]
  },
  {
   "cell_type": "code",
   "execution_count": 2,
   "id": "9486ad02",
   "metadata": {},
   "outputs": [],
   "source": [
    "from pyspark.sql import SparkSession\n",
    "spark = SparkSession.builder.appName(\"Read lines from a file stream\").getOrCreate()"
   ]
  },
  {
   "cell_type": "code",
   "execution_count": 3,
   "id": "058ef7a6",
   "metadata": {},
   "outputs": [],
   "source": [
    "inputDirectory = '/home/hhhhh/ds'"
   ]
  },
  {
   "cell_type": "code",
   "execution_count": null,
   "id": "e51cc662",
   "metadata": {},
   "outputs": [],
   "source": [
    "df = spark.readStream.format(\"text\").schema \\\n",
    "        \n",
    "    .load(\"/home/hhhhh/ds/\")"
   ]
  },
  {
   "cell_type": "code",
   "execution_count": null,
   "id": "3cf45f73",
   "metadata": {},
   "outputs": [],
   "source": [
    "query = df.writeStream.outputMode(\"append\") \\\n",
    "    .format(\"console\") \\\n",
    "    .option(\"truncate\", False) \\\n",
    "    .option(\"numRows\", 10) \\\n",
    "    .start()\n",
    "query.awaitTermination()"
   ]
  },
  {
   "cell_type": "markdown",
   "id": "4f67c5c1",
   "metadata": {},
   "source": [
    "- The returned streaming DataFrame will have the specified schema. - Here are a few key points to remember when using files:\n",
    "    - All the files must be of the same format and are expected to have the same schema. For example, if the format is \"json\" , all the files must be in the JSON format with one JSON record per line. The schema of each JSON record must match the one specified with readStream() . Violation of these assumptions can lead to incorrect parsing (e.g., unexpected null values) or query failures.\n",
    "    - Each file must appear in the directory listing atomically—that is, the whole file must be available at once for reading, and once it is available, the file cannot be updated or modified. This is because Structured Streaming will process the file when the engine finds it (using directory listing) and internally mark it as processed. Any changes to that file will not be processed.\n",
    "    - When there are multiple new files to process but it can only pick some of them in the next micro-batch (e.g., because of rate limits), it will select the files with the earliest timestamps. Within the micro-batch, however, there is no predefined order of reading of the selected files; all of them will be read in parallel."
   ]
  },
  {
   "cell_type": "code",
   "execution_count": null,
   "id": "941dec6e",
   "metadata": {},
   "outputs": [],
   "source": []
  }
 ],
 "metadata": {
  "kernelspec": {
   "display_name": "Python 3",
   "language": "python",
   "name": "python3"
  },
  "language_info": {
   "codemirror_mode": {
    "name": "ipython",
    "version": 3
   },
   "file_extension": ".py",
   "mimetype": "text/x-python",
   "name": "python",
   "nbconvert_exporter": "python",
   "pygments_lexer": "ipython3",
   "version": "3.8.8"
  }
 },
 "nbformat": 4,
 "nbformat_minor": 5
}
