{
 "cells": [
  {
   "cell_type": "code",
   "execution_count": null,
   "id": "94c550ba",
   "metadata": {},
   "outputs": [],
   "source": [
    "import findspark\n",
    "findspark.init()\n",
    "import pyspark"
   ]
  },
  {
   "cell_type": "code",
   "execution_count": null,
   "id": "0772f0d3",
   "metadata": {},
   "outputs": [],
   "source": [
    "from pyspark.sql import SparkSession\n",
    "spark = SparkSession.builder.appName(\"Read lines from a file stream\").getOrCreate()"
   ]
  },
  {
   "cell_type": "code",
   "execution_count": null,
   "id": "fc156f6d",
   "metadata": {},
   "outputs": [],
   "source": [
    "inputDirectory = '/home/hhhhh/ds'"
   ]
  },
  {
   "cell_type": "code",
   "execution_count": null,
   "id": "9c45c8de",
   "metadata": {},
   "outputs": [],
   "source": [
    "from pyspark.sql.types import (StructType, StructField,\n",
    "                               StringType, IntegerType)\n",
    "\n",
    "recordSchema = StructType([StructField('date', StringType(), True),\n",
    "                           StructField('delay', IntegerType(), True),\n",
    "                           StructField('distance', IntegerType(), True),\n",
    "                           StructField('origin', StringType(), True),\n",
    "                           StructField('destination', StringType(), True)])"
   ]
  },
  {
   "cell_type": "code",
   "execution_count": null,
   "id": "eb3cb56b",
   "metadata": {},
   "outputs": [],
   "source": [
    "df = spark.readStream.format(\"csv\") \\\n",
    "    .schema(recordSchema) \\\n",
    "    .load(\"/home/hhhhh/ds/\")"
   ]
  },
  {
   "cell_type": "code",
   "execution_count": null,
   "id": "903c4f44",
   "metadata": {},
   "outputs": [],
   "source": [
    "df = spark.readStream.format(\"parquet\") \\\n",
    "    .schema(recordSchema) \\\n",
    "    .load(\"/home/hhhhh/ds/\")"
   ]
  },
  {
   "cell_type": "code",
   "execution_count": null,
   "id": "d85b9ce6",
   "metadata": {},
   "outputs": [],
   "source": [
    "query = df.writeStream.outputMode(\"append\") \\\n",
    "    .format(\"console\") \\\n",
    "    .option(\"truncate\", False) \\\n",
    "    .option(\"numRows\", 10) \\\n",
    "    .start()\n",
    "query.awaitTermination()"
   ]
  },
  {
   "cell_type": "code",
   "execution_count": null,
   "id": "cdcd7420",
   "metadata": {},
   "outputs": [],
   "source": []
  }
 ],
 "metadata": {
  "kernelspec": {
   "display_name": "Python 3",
   "language": "python",
   "name": "python3"
  },
  "language_info": {
   "codemirror_mode": {
    "name": "ipython",
    "version": 3
   },
   "file_extension": ".py",
   "mimetype": "text/x-python",
   "name": "python",
   "nbconvert_exporter": "python",
   "pygments_lexer": "ipython3",
   "version": "3.8.8"
  }
 },
 "nbformat": 4,
 "nbformat_minor": 5
}
