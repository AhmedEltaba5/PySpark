{
 "cells": [
  {
   "cell_type": "code",
   "execution_count": 1,
   "metadata": {},
   "outputs": [],
   "source": [
    "import os"
   ]
  },
  {
   "cell_type": "code",
   "execution_count": 2,
   "metadata": {},
   "outputs": [],
   "source": [
    "os.environ[\"JAVA_HOME\"] = \"C:/Program Files/Java/jre1.8.0_291\"\n",
    "os.environ[\"PATH\"] = os.environ[\"JAVA_HOME\"] + \"/bin:\" + os.environ[\"PATH\"]"
   ]
  },
  {
   "cell_type": "code",
   "execution_count": 3,
   "metadata": {},
   "outputs": [],
   "source": [
    "import findspark\n",
    "findspark.init()\n",
    "import pyspark"
   ]
  },
  {
   "cell_type": "code",
   "execution_count": 4,
   "metadata": {},
   "outputs": [],
   "source": [
    "from pyspark.sql.functions import * \n",
    "from pyspark.sql.types import * "
   ]
  },
  {
   "cell_type": "code",
   "execution_count": 5,
   "metadata": {},
   "outputs": [],
   "source": [
    "from pyspark.sql import SparkSession"
   ]
  },
  {
   "cell_type": "code",
   "execution_count": 6,
   "metadata": {},
   "outputs": [],
   "source": [
    "spark = (SparkSession\n",
    "  .builder\n",
    "  .appName(\"Streaming\")\n",
    "  .getOrCreate())"
   ]
  },
  {
   "cell_type": "code",
   "execution_count": 7,
   "metadata": {},
   "outputs": [],
   "source": [
    "initDF = (spark\\\n",
    "  .readStream\\\n",
    "  .format(\"rate\")\\\n",
    "  .option(\"rowsPerSecond\", 1)\\\n",
    "  .load()\n",
    "  )"
   ]
  },
  {
   "cell_type": "code",
   "execution_count": 8,
   "metadata": {},
   "outputs": [
    {
     "name": "stdout",
     "output_type": "stream",
     "text": [
      "Streaming DataFrame :  True\n"
     ]
    }
   ],
   "source": [
    "print(\"Streaming DataFrame : \" , initDF.isStreaming)"
   ]
  },
  {
   "cell_type": "code",
   "execution_count": 9,
   "metadata": {},
   "outputs": [],
   "source": [
    "resultDF = initDF\\\n",
    "        .withColumn(\"result\", col(\"value\") + lit(1))"
   ]
  },
  {
   "cell_type": "code",
   "execution_count": 10,
   "metadata": {},
   "outputs": [],
   "source": [
    "query=resultDF\\\n",
    "  .writeStream\\\n",
    "  .outputMode(\"append\")\\\n",
    "  .option(\"truncate\", False)\\\n",
    "  .format(\"console\")\\\n",
    "  .start()"
   ]
  },
  {
   "cell_type": "code",
   "execution_count": 11,
   "metadata": {},
   "outputs": [
    {
     "data": {
      "text/plain": [
       "False"
      ]
     },
     "execution_count": 11,
     "metadata": {},
     "output_type": "execute_result"
    }
   ],
   "source": [
    "query.awaitTermination(timeout=10)"
   ]
  },
  {
   "cell_type": "code",
   "execution_count": 12,
   "metadata": {},
   "outputs": [],
   "source": [
    "query.stop()"
   ]
  },
  {
   "cell_type": "code",
   "execution_count": 17,
   "metadata": {},
   "outputs": [],
   "source": [
    "df_socket = (spark\n",
    "         .readStream.format(\"socket\")\n",
    "         .option(\"host\", \"localhost\")\n",
    "         .option(\"port\", 1234)\n",
    "         .load())"
   ]
  },
  {
   "cell_type": "code",
   "execution_count": 18,
   "metadata": {},
   "outputs": [],
   "source": [
    "#words = lines.select(split(col(\"value\"), \"\\\\s\").alias(\"word\"))\n",
    "words = df_socket.select(explode(split(df_socket.value, \" \")).alias(\"word\"))\n",
    "counts = words.groupBy(\"word\").count()"
   ]
  },
  {
   "cell_type": "code",
   "execution_count": 19,
   "metadata": {},
   "outputs": [
    {
     "name": "stdout",
     "output_type": "stream",
     "text": [
      "root\n",
      " |-- word: string (nullable = true)\n",
      " |-- count: long (nullable = false)\n",
      "\n"
     ]
    }
   ],
   "source": [
    "counts.printSchema()"
   ]
  },
  {
   "cell_type": "code",
   "execution_count": 20,
   "metadata": {},
   "outputs": [
    {
     "data": {
      "text/plain": [
       "False"
      ]
     },
     "execution_count": 20,
     "metadata": {},
     "output_type": "execute_result"
    }
   ],
   "source": [
    "checkpointDir = \"chkpnt_2\"\n",
    "streamingQuery = (counts.writeStream\n",
    "                  .format(\"console\")\n",
    "                  .outputMode(\"complete\")\n",
    "                  .option(\"checkpointLocation\", checkpointDir)\n",
    "                  .start())\n",
    "streamingQuery.awaitTermination(timeout=10)"
   ]
  },
  {
   "cell_type": "code",
   "execution_count": 21,
   "metadata": {},
   "outputs": [],
   "source": [
    "# ncat -lvp 1234"
   ]
  },
  {
   "cell_type": "code",
   "execution_count": 22,
   "metadata": {},
   "outputs": [],
   "source": [
    "from pyspark.sql.types import (StructType, StructField,\n",
    "                               StringType, IntegerType,DoubleType)"
   ]
  },
  {
   "cell_type": "code",
   "execution_count": 23,
   "metadata": {},
   "outputs": [],
   "source": [
    "# // Extract the Name of the stock from the file name.\n",
    "schema = StructType([\n",
    "  StructField(\"Date\", StringType(), True),\n",
    "  StructField(\"Open\", DoubleType(), True),\n",
    "  StructField(\"High\", DoubleType(), True),\n",
    "  StructField(\"Low\", DoubleType(), True),\n",
    "  StructField(\"Close\", DoubleType(), True),\n",
    "  StructField(\"Adjusted Close\", DoubleType(), True),\n",
    "  StructField(\"Volume\", DoubleType(), True)\n",
    "])\n"
   ]
  },
  {
   "cell_type": "code",
   "execution_count": 24,
   "metadata": {},
   "outputs": [],
   "source": [
    "import os \n",
    "st='/Data/AABA_2006-01-01_to_2018-01-01.csv'\n",
    "@udf()\n",
    "def getFileName(str):\n",
    "    all_name=str.split('/')[-1]\n",
    "    ticker = all_name.split('_')[0]\n",
    "    return ticker"
   ]
  },
  {
   "cell_type": "code",
   "execution_count": 25,
   "metadata": {},
   "outputs": [],
   "source": [
    "df = spark.readStream.format(\"csv\")\\\n",
    "    .schema(schema).option('maxFilesPerTrigger',2)\\\n",
    "    .load('stream_data')\n",
    "#.option(\"path\", \"Data\")\n",
    "df_ticker = df.withColumn('Name',getFileName((input_file_name())))"
   ]
  },
  {
   "cell_type": "code",
   "execution_count": 26,
   "metadata": {},
   "outputs": [
    {
     "data": {
      "text/plain": [
       "True"
      ]
     },
     "execution_count": 26,
     "metadata": {},
     "output_type": "execute_result"
    }
   ],
   "source": [
    "df_ticker.isStreaming"
   ]
  },
  {
   "cell_type": "code",
   "execution_count": 27,
   "metadata": {},
   "outputs": [
    {
     "data": {
      "text/plain": [
       "False"
      ]
     },
     "execution_count": 27,
     "metadata": {},
     "output_type": "execute_result"
    }
   ],
   "source": [
    "checkpointDir = \"chkpnt_3\"\n",
    "streamingQuery = (df_ticker.writeStream\n",
    "                  .format(\"console\")\n",
    "                  .outputMode(\"append\")\n",
    "                  .option(\"checkpointLocation\", checkpointDir)\n",
    "                  .start())\n",
    "streamingQuery.awaitTermination(timeout=10)"
   ]
  },
  {
   "cell_type": "code",
   "execution_count": 28,
   "metadata": {},
   "outputs": [],
   "source": [
    "streamingQuery.stop()"
   ]
  },
  {
   "cell_type": "code",
   "execution_count": 29,
   "metadata": {},
   "outputs": [],
   "source": [
    "df_agg = df_ticker.groupby(year('Date')).max('High')"
   ]
  },
  {
   "cell_type": "code",
   "execution_count": 30,
   "metadata": {},
   "outputs": [
    {
     "data": {
      "text/plain": [
       "False"
      ]
     },
     "execution_count": 30,
     "metadata": {},
     "output_type": "execute_result"
    }
   ],
   "source": [
    "checkpointDir = \"chkpnt_4\"\n",
    "streamingQuery = (df_agg.writeStream\n",
    "                  .format(\"console\")\n",
    "                  .outputMode(\"complete\")\n",
    "                  .option(\"checkpointLocation\", checkpointDir)\n",
    "                  .start())\n",
    "streamingQuery.awaitTermination(timeout=10)"
   ]
  },
  {
   "cell_type": "code",
   "execution_count": 31,
   "metadata": {},
   "outputs": [],
   "source": [
    "streamingQuery.stop()"
   ]
  },
  {
   "cell_type": "code",
   "execution_count": 3,
   "metadata": {},
   "outputs": [
    {
     "name": "stdout",
     "output_type": "stream",
     "text": [
      "Collecting graphframes\n",
      "  Downloading graphframes-0.6-py2.py3-none-any.whl (18 kB)\n",
      "Requirement already satisfied: nose in c:\\users\\ahmed eltabakh\\anaconda3\\lib\\site-packages (from graphframes) (1.3.7)\n",
      "Requirement already satisfied: numpy in c:\\users\\ahmed eltabakh\\anaconda3\\lib\\site-packages (from graphframes) (1.19.2)\n",
      "Installing collected packages: graphframes\n",
      "Successfully installed graphframes-0.6\n"
     ]
    }
   ],
   "source": [
    "!pip install graphframes"
   ]
  },
  {
   "cell_type": "code",
   "execution_count": 7,
   "metadata": {},
   "outputs": [],
   "source": [
    "from pyspark.sql import SQLContext\n",
    "#from pyspark.sql import SparkSession"
   ]
  },
  {
   "cell_type": "code",
   "execution_count": 8,
   "metadata": {},
   "outputs": [],
   "source": [
    "from graphframes import *\n",
    "#spark = SparkSession.builder.appName('graphframes').getOrCreate()\n",
    "sc = spark.sparkContext\n",
    "sqlContext = SQLContext(sc)"
   ]
  },
  {
   "cell_type": "code",
   "execution_count": 9,
   "metadata": {},
   "outputs": [],
   "source": [
    "vert = spark.createDataFrame([('a','Alice',34),\n",
    "                             ('b','bob',36),\n",
    "                             ('c','Charli',30),\n",
    "                             ('d','David',29),\n",
    "                             ('e','Esther',32),\n",
    "                             ('f','Fanny',36)],\n",
    "                            [\"id\", \"name\", \"age\"])"
   ]
  },
  {
   "cell_type": "code",
   "execution_count": 10,
   "metadata": {},
   "outputs": [],
   "source": [
    "Edg = spark.createDataFrame([('a','e','friend'),\n",
    "                             ('f','b','follow'),\n",
    "                             ('c','e','friend'),\n",
    "                             ('a','b','friend'),\n",
    "                            ('b','c','follow'),\n",
    "                            ('c','b','follow'),\n",
    "                            ('f','c','follow'),\n",
    "                            ('e','f','follow'),\n",
    "                            ('e','d','friend'),\n",
    "                            ('d','a','friend'),],\n",
    "                           [\"src\", \"dst\", \"relationship\"])"
   ]
  },
  {
   "cell_type": "code",
   "execution_count": 11,
   "metadata": {},
   "outputs": [
    {
     "name": "stdout",
     "output_type": "stream",
     "text": [
      "+---+------+---+\n",
      "| id|  name|age|\n",
      "+---+------+---+\n",
      "|  a| Alice| 34|\n",
      "|  b|   bob| 36|\n",
      "|  c|Charli| 30|\n",
      "|  d| David| 29|\n",
      "|  e|Esther| 32|\n",
      "|  f| Fanny| 36|\n",
      "+---+------+---+\n",
      "\n"
     ]
    }
   ],
   "source": [
    "vert.show()"
   ]
  },
  {
   "cell_type": "code",
   "execution_count": 12,
   "metadata": {},
   "outputs": [
    {
     "name": "stdout",
     "output_type": "stream",
     "text": [
      "+---+---+------------+\n",
      "|src|dst|relationship|\n",
      "+---+---+------------+\n",
      "|  a|  e|      friend|\n",
      "|  f|  b|      follow|\n",
      "|  c|  e|      friend|\n",
      "|  a|  b|      friend|\n",
      "|  b|  c|      follow|\n",
      "|  c|  b|      follow|\n",
      "|  f|  c|      follow|\n",
      "|  e|  f|      follow|\n",
      "|  e|  d|      friend|\n",
      "|  d|  a|      friend|\n",
      "+---+---+------------+\n",
      "\n"
     ]
    }
   ],
   "source": [
    "Edg.show()"
   ]
  },
  {
   "cell_type": "code",
   "execution_count": 13,
   "metadata": {},
   "outputs": [],
   "source": [
    "from graphframes import *"
   ]
  },
  {
   "cell_type": "code",
   "execution_count": 14,
   "metadata": {},
   "outputs": [],
   "source": [
    "g = GraphFrame(vert, Edg)"
   ]
  },
  {
   "cell_type": "code",
   "execution_count": 15,
   "metadata": {},
   "outputs": [
    {
     "name": "stdout",
     "output_type": "stream",
     "text": [
      "+---+--------+\n",
      "| id|inDegree|\n",
      "+---+--------+\n",
      "|  f|       1|\n",
      "|  e|       2|\n",
      "|  d|       1|\n",
      "|  c|       2|\n",
      "|  b|       3|\n",
      "|  a|       1|\n",
      "+---+--------+\n",
      "\n"
     ]
    }
   ],
   "source": [
    "g.inDegrees.show()"
   ]
  },
  {
   "cell_type": "code",
   "execution_count": 16,
   "metadata": {},
   "outputs": [
    {
     "name": "stdout",
     "output_type": "stream",
     "text": [
      "+---+---------+\n",
      "| id|outDegree|\n",
      "+---+---------+\n",
      "|  f|        2|\n",
      "|  e|        2|\n",
      "|  d|        1|\n",
      "|  c|        2|\n",
      "|  b|        1|\n",
      "|  a|        2|\n",
      "+---+---------+\n",
      "\n"
     ]
    }
   ],
   "source": [
    "g.outDegrees.show()"
   ]
  },
  {
   "cell_type": "code",
   "execution_count": 17,
   "metadata": {},
   "outputs": [],
   "source": [
    "from pyspark.sql.functions import udf,col"
   ]
  },
  {
   "cell_type": "code",
   "execution_count": 18,
   "metadata": {},
   "outputs": [],
   "source": [
    "@udf()\n",
    "def src_gt_dst_func(src,dst):\n",
    "    if src>=dst:\n",
    "        return 'Delete'\n",
    "    else:\n",
    "        return 'Keep'"
   ]
  },
  {
   "cell_type": "code",
   "execution_count": 19,
   "metadata": {},
   "outputs": [],
   "source": [
    "ed = g.edges"
   ]
  },
  {
   "cell_type": "code",
   "execution_count": 20,
   "metadata": {},
   "outputs": [
    {
     "name": "stdout",
     "output_type": "stream",
     "text": [
      "+---+---+------------+------+\n",
      "|src|dst|relationship|Status|\n",
      "+---+---+------------+------+\n",
      "|a  |e  |friend      |Keep  |\n",
      "|f  |b  |follow      |Delete|\n",
      "|c  |e  |friend      |Keep  |\n",
      "|a  |b  |friend      |Keep  |\n",
      "|b  |c  |follow      |Keep  |\n",
      "|c  |b  |follow      |Delete|\n",
      "|f  |c  |follow      |Delete|\n",
      "|e  |f  |follow      |Keep  |\n",
      "|e  |d  |friend      |Delete|\n",
      "|d  |a  |friend      |Delete|\n",
      "+---+---+------------+------+\n",
      "\n"
     ]
    }
   ],
   "source": [
    "ed.withColumn(\"Status\", src_gt_dst_func(col(\"src\"),col(\"dst\"))).show(truncate=False)"
   ]
  },
  {
   "cell_type": "code",
   "execution_count": 21,
   "metadata": {},
   "outputs": [],
   "source": [
    "g1 = g.filterVertices(\"age>30\").filterEdges(\"relationship='friend'\")"
   ]
  },
  {
   "cell_type": "code",
   "execution_count": 22,
   "metadata": {},
   "outputs": [
    {
     "name": "stdout",
     "output_type": "stream",
     "text": [
      "+---+------+---+\n",
      "| id|  name|age|\n",
      "+---+------+---+\n",
      "|  a| Alice| 34|\n",
      "|  b|   bob| 36|\n",
      "|  e|Esther| 32|\n",
      "|  f| Fanny| 36|\n",
      "+---+------+---+\n",
      "\n"
     ]
    }
   ],
   "source": [
    "g1.vertices.show()"
   ]
  },
  {
   "cell_type": "code",
   "execution_count": 23,
   "metadata": {},
   "outputs": [
    {
     "name": "stdout",
     "output_type": "stream",
     "text": [
      "+---+---+------------+\n",
      "|src|dst|relationship|\n",
      "+---+---+------------+\n",
      "|  a|  e|      friend|\n",
      "|  a|  b|      friend|\n",
      "+---+---+------------+\n",
      "\n"
     ]
    }
   ],
   "source": [
    "g1.edges.show()"
   ]
  },
  {
   "cell_type": "code",
   "execution_count": 24,
   "metadata": {},
   "outputs": [],
   "source": [
    "spark.sparkContext.setCheckpointDir(\"chkpointsdir\")"
   ]
  },
  {
   "cell_type": "code",
   "execution_count": 25,
   "metadata": {},
   "outputs": [],
   "source": [
    "result = g.connectedComponents()"
   ]
  },
  {
   "cell_type": "code",
   "execution_count": 27,
   "metadata": {},
   "outputs": [
    {
     "name": "stdout",
     "output_type": "stream",
     "text": [
      "+---+------+---+------------+\n",
      "| id|  name|age|   component|\n",
      "+---+------+---+------------+\n",
      "|  a| Alice| 34|412316860416|\n",
      "|  b|   bob| 36|412316860416|\n",
      "|  c|Charli| 30|412316860416|\n",
      "|  d| David| 29|412316860416|\n",
      "|  e|Esther| 32|412316860416|\n",
      "|  f| Fanny| 36|412316860416|\n",
      "+---+------+---+------------+\n",
      "\n"
     ]
    }
   ],
   "source": [
    "result.show() #connect to socket => ncat -lvp 1234"
   ]
  },
  {
   "cell_type": "code",
   "execution_count": 28,
   "metadata": {},
   "outputs": [],
   "source": [
    "motifs = g.find(\"(a)-[e]->(b); (b)-[e2]->(c)\")"
   ]
  },
  {
   "cell_type": "code",
   "execution_count": 29,
   "metadata": {},
   "outputs": [
    {
     "name": "stdout",
     "output_type": "stream",
     "text": [
      "+---------------+--------------+---------------+--------------+---------------+\n",
      "|              a|             e|              b|            e2|              c|\n",
      "+---------------+--------------+---------------+--------------+---------------+\n",
      "|[c, Charli, 30]|[c, e, friend]|[e, Esther, 32]|[e, f, follow]| [f, Fanny, 36]|\n",
      "| [a, Alice, 34]|[a, e, friend]|[e, Esther, 32]|[e, f, follow]| [f, Fanny, 36]|\n",
      "| [f, Fanny, 36]|[f, c, follow]|[c, Charli, 30]|[c, e, friend]|[e, Esther, 32]|\n",
      "|   [b, bob, 36]|[b, c, follow]|[c, Charli, 30]|[c, e, friend]|[e, Esther, 32]|\n",
      "| [d, David, 29]|[d, a, friend]| [a, Alice, 34]|[a, e, friend]|[e, Esther, 32]|\n",
      "|[c, Charli, 30]|[c, e, friend]|[e, Esther, 32]|[e, d, friend]| [d, David, 29]|\n",
      "| [a, Alice, 34]|[a, e, friend]|[e, Esther, 32]|[e, d, friend]| [d, David, 29]|\n",
      "|[e, Esther, 32]|[e, f, follow]| [f, Fanny, 36]|[f, c, follow]|[c, Charli, 30]|\n",
      "| [f, Fanny, 36]|[f, b, follow]|   [b, bob, 36]|[b, c, follow]|[c, Charli, 30]|\n",
      "| [a, Alice, 34]|[a, b, friend]|   [b, bob, 36]|[b, c, follow]|[c, Charli, 30]|\n",
      "|[e, Esther, 32]|[e, f, follow]| [f, Fanny, 36]|[f, b, follow]|   [b, bob, 36]|\n",
      "| [f, Fanny, 36]|[f, c, follow]|[c, Charli, 30]|[c, b, follow]|   [b, bob, 36]|\n",
      "| [d, David, 29]|[d, a, friend]| [a, Alice, 34]|[a, b, friend]|   [b, bob, 36]|\n",
      "|[e, Esther, 32]|[e, d, friend]| [d, David, 29]|[d, a, friend]| [a, Alice, 34]|\n",
      "+---------------+--------------+---------------+--------------+---------------+\n",
      "\n"
     ]
    }
   ],
   "source": [
    "motifs.filter(\"a.id !=c.id \").show()"
   ]
  },
  {
   "cell_type": "code",
   "execution_count": null,
   "metadata": {},
   "outputs": [],
   "source": []
  }
 ],
 "metadata": {
  "kernelspec": {
   "display_name": "Python 3",
   "language": "python",
   "name": "python3"
  },
  "language_info": {
   "codemirror_mode": {
    "name": "ipython",
    "version": 3
   },
   "file_extension": ".py",
   "mimetype": "text/x-python",
   "name": "python",
   "nbconvert_exporter": "python",
   "pygments_lexer": "ipython3",
   "version": "3.8.5"
  }
 },
 "nbformat": 4,
 "nbformat_minor": 4
}
